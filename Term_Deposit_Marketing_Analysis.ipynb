{
 "cells": [
  {
   "cell_type": "markdown",
   "metadata": {},
   "source": [
    "## Term Deposit Marketing Analysis"
   ]
  },
  {
   "cell_type": "markdown",
   "metadata": {},
   "source": [
    "### 1. Importing libraries and dataset"
   ]
  },
  {
   "cell_type": "markdown",
   "metadata": {},
   "source": [
    "#### 1.1. Importing required libraries"
   ]
  },
  {
   "cell_type": "code",
   "execution_count": 147,
   "metadata": {},
   "outputs": [],
   "source": [
    "import pandas as pd\n",
    "import numpy as np\n",
    "from sklearn import preprocessing\n",
    "from sklearn.model_selection import train_test_split, GridSearchCV\n",
    "from sklearn.linear_model import LogisticRegression\n",
    "from sklearn.tree import DecisionTreeClassifier\n",
    "from sklearn.neighbors import KNeighborsClassifier\n",
    "from sklearn.svm import SVC\n",
    "from sklearn.ensemble import RandomForestClassifier\n",
    "from sklearn.ensemble import AdaBoostClassifier\n",
    "import lightgbm\n",
    "from lightgbm import LGBMClassifier\n",
    "from sklearn import model_selection\n",
    "from sklearn.metrics import classification_report\n",
    "from sklearn.metrics import confusion_matrix\n",
    "from sklearn.metrics import accuracy_score\n",
    "import matplotlib.pyplot as plt\n",
    "import seaborn as sns\n",
    "from warnings import filterwarnings\n",
    "filterwarnings('ignore')"
   ]
  },
  {
   "cell_type": "markdown",
   "metadata": {},
   "source": [
    "#### 1.2. Importing dataset to notebook"
   ]
  },
  {
   "cell_type": "code",
   "execution_count": 81,
   "metadata": {},
   "outputs": [],
   "source": [
    "df=pd.read_csv(r'term-deposit-marketing-2020.csv')"
   ]
  },
  {
   "cell_type": "code",
   "execution_count": 82,
   "metadata": {},
   "outputs": [
    {
     "data": {
      "text/html": [
       "<div>\n",
       "<style scoped>\n",
       "    .dataframe tbody tr th:only-of-type {\n",
       "        vertical-align: middle;\n",
       "    }\n",
       "\n",
       "    .dataframe tbody tr th {\n",
       "        vertical-align: top;\n",
       "    }\n",
       "\n",
       "    .dataframe thead th {\n",
       "        text-align: right;\n",
       "    }\n",
       "</style>\n",
       "<table border=\"1\" class=\"dataframe\">\n",
       "  <thead>\n",
       "    <tr style=\"text-align: right;\">\n",
       "      <th></th>\n",
       "      <th>age</th>\n",
       "      <th>job</th>\n",
       "      <th>marital</th>\n",
       "      <th>education</th>\n",
       "      <th>default</th>\n",
       "      <th>balance</th>\n",
       "      <th>housing</th>\n",
       "      <th>loan</th>\n",
       "      <th>contact</th>\n",
       "      <th>day</th>\n",
       "      <th>month</th>\n",
       "      <th>duration</th>\n",
       "      <th>campaign</th>\n",
       "      <th>y</th>\n",
       "    </tr>\n",
       "  </thead>\n",
       "  <tbody>\n",
       "    <tr>\n",
       "      <th>0</th>\n",
       "      <td>58</td>\n",
       "      <td>management</td>\n",
       "      <td>married</td>\n",
       "      <td>tertiary</td>\n",
       "      <td>no</td>\n",
       "      <td>2143</td>\n",
       "      <td>yes</td>\n",
       "      <td>no</td>\n",
       "      <td>unknown</td>\n",
       "      <td>5</td>\n",
       "      <td>may</td>\n",
       "      <td>261</td>\n",
       "      <td>1</td>\n",
       "      <td>no</td>\n",
       "    </tr>\n",
       "    <tr>\n",
       "      <th>1</th>\n",
       "      <td>44</td>\n",
       "      <td>technician</td>\n",
       "      <td>single</td>\n",
       "      <td>secondary</td>\n",
       "      <td>no</td>\n",
       "      <td>29</td>\n",
       "      <td>yes</td>\n",
       "      <td>no</td>\n",
       "      <td>unknown</td>\n",
       "      <td>5</td>\n",
       "      <td>may</td>\n",
       "      <td>151</td>\n",
       "      <td>1</td>\n",
       "      <td>no</td>\n",
       "    </tr>\n",
       "    <tr>\n",
       "      <th>2</th>\n",
       "      <td>33</td>\n",
       "      <td>entrepreneur</td>\n",
       "      <td>married</td>\n",
       "      <td>secondary</td>\n",
       "      <td>no</td>\n",
       "      <td>2</td>\n",
       "      <td>yes</td>\n",
       "      <td>yes</td>\n",
       "      <td>unknown</td>\n",
       "      <td>5</td>\n",
       "      <td>may</td>\n",
       "      <td>76</td>\n",
       "      <td>1</td>\n",
       "      <td>no</td>\n",
       "    </tr>\n",
       "  </tbody>\n",
       "</table>\n",
       "</div>"
      ],
      "text/plain": [
       "   age           job  marital  education default  balance housing loan  \\\n",
       "0   58    management  married   tertiary      no     2143     yes   no   \n",
       "1   44    technician   single  secondary      no       29     yes   no   \n",
       "2   33  entrepreneur  married  secondary      no        2     yes  yes   \n",
       "\n",
       "   contact  day month  duration  campaign   y  \n",
       "0  unknown    5   may       261         1  no  \n",
       "1  unknown    5   may       151         1  no  \n",
       "2  unknown    5   may        76         1  no  "
      ]
     },
     "execution_count": 82,
     "metadata": {},
     "output_type": "execute_result"
    }
   ],
   "source": [
    "df.head(3)"
   ]
  },
  {
   "cell_type": "markdown",
   "metadata": {},
   "source": [
    "### 2. Preprocessing the data"
   ]
  },
  {
   "cell_type": "markdown",
   "metadata": {},
   "source": [
    "#### 2.1. Checking for null values"
   ]
  },
  {
   "cell_type": "code",
   "execution_count": 83,
   "metadata": {},
   "outputs": [
    {
     "data": {
      "text/plain": [
       "age          0\n",
       "job          0\n",
       "marital      0\n",
       "education    0\n",
       "default      0\n",
       "balance      0\n",
       "housing      0\n",
       "loan         0\n",
       "contact      0\n",
       "day          0\n",
       "month        0\n",
       "duration     0\n",
       "campaign     0\n",
       "y            0\n",
       "dtype: int64"
      ]
     },
     "execution_count": 83,
     "metadata": {},
     "output_type": "execute_result"
    }
   ],
   "source": [
    "df.isnull().sum()"
   ]
  },
  {
   "cell_type": "markdown",
   "metadata": {},
   "source": [
    "No null value in dataset. So, we can continue with transformation."
   ]
  },
  {
   "cell_type": "markdown",
   "metadata": {},
   "source": [
    "#### 2.2. Variable transformation"
   ]
  },
  {
   "cell_type": "code",
   "execution_count": 84,
   "metadata": {},
   "outputs": [
    {
     "name": "stdout",
     "output_type": "stream",
     "text": [
      "<class 'pandas.core.frame.DataFrame'>\n",
      "RangeIndex: 40000 entries, 0 to 39999\n",
      "Data columns (total 14 columns):\n",
      "age          40000 non-null int64\n",
      "job          40000 non-null object\n",
      "marital      40000 non-null object\n",
      "education    40000 non-null object\n",
      "default      40000 non-null object\n",
      "balance      40000 non-null int64\n",
      "housing      40000 non-null object\n",
      "loan         40000 non-null object\n",
      "contact      40000 non-null object\n",
      "day          40000 non-null int64\n",
      "month        40000 non-null object\n",
      "duration     40000 non-null int64\n",
      "campaign     40000 non-null int64\n",
      "y            40000 non-null object\n",
      "dtypes: int64(5), object(9)\n",
      "memory usage: 4.3+ MB\n"
     ]
    }
   ],
   "source": [
    "df.info()"
   ]
  },
  {
   "cell_type": "markdown",
   "metadata": {},
   "source": [
    "As we can see, there are categorical variables in the dataset. In order to establish a model, i will transform the variables from categorical to numeric with LabelEncoder."
   ]
  },
  {
   "cell_type": "code",
   "execution_count": 86,
   "metadata": {},
   "outputs": [],
   "source": [
    "from sklearn.preprocessing import LabelEncoder\n",
    "lbe = LabelEncoder()\n",
    "df.job = lbe.fit_transform(df.job)\n",
    "df.marital = lbe.fit_transform(df.marital)\n",
    "df.education = lbe.fit_transform(df.education)\n",
    "df.default = lbe.fit_transform(df.default)\n",
    "df.housing = lbe.fit_transform(df.housing)\n",
    "df.loan = lbe.fit_transform(df.loan)\n",
    "df.contact = lbe.fit_transform(df.contact)\n",
    "df.month = lbe.fit_transform(df.month)\n",
    "df.y=lbe.fit_transform(df.y)"
   ]
  },
  {
   "cell_type": "code",
   "execution_count": 87,
   "metadata": {},
   "outputs": [
    {
     "data": {
      "text/html": [
       "<div>\n",
       "<style scoped>\n",
       "    .dataframe tbody tr th:only-of-type {\n",
       "        vertical-align: middle;\n",
       "    }\n",
       "\n",
       "    .dataframe tbody tr th {\n",
       "        vertical-align: top;\n",
       "    }\n",
       "\n",
       "    .dataframe thead th {\n",
       "        text-align: right;\n",
       "    }\n",
       "</style>\n",
       "<table border=\"1\" class=\"dataframe\">\n",
       "  <thead>\n",
       "    <tr style=\"text-align: right;\">\n",
       "      <th></th>\n",
       "      <th>age</th>\n",
       "      <th>job</th>\n",
       "      <th>marital</th>\n",
       "      <th>education</th>\n",
       "      <th>default</th>\n",
       "      <th>balance</th>\n",
       "      <th>housing</th>\n",
       "      <th>loan</th>\n",
       "      <th>contact</th>\n",
       "      <th>day</th>\n",
       "      <th>month</th>\n",
       "      <th>duration</th>\n",
       "      <th>campaign</th>\n",
       "      <th>y</th>\n",
       "    </tr>\n",
       "  </thead>\n",
       "  <tbody>\n",
       "    <tr>\n",
       "      <th>0</th>\n",
       "      <td>58</td>\n",
       "      <td>4</td>\n",
       "      <td>1</td>\n",
       "      <td>2</td>\n",
       "      <td>0</td>\n",
       "      <td>2143</td>\n",
       "      <td>1</td>\n",
       "      <td>0</td>\n",
       "      <td>2</td>\n",
       "      <td>5</td>\n",
       "      <td>8</td>\n",
       "      <td>261</td>\n",
       "      <td>1</td>\n",
       "      <td>0</td>\n",
       "    </tr>\n",
       "    <tr>\n",
       "      <th>1</th>\n",
       "      <td>44</td>\n",
       "      <td>9</td>\n",
       "      <td>2</td>\n",
       "      <td>1</td>\n",
       "      <td>0</td>\n",
       "      <td>29</td>\n",
       "      <td>1</td>\n",
       "      <td>0</td>\n",
       "      <td>2</td>\n",
       "      <td>5</td>\n",
       "      <td>8</td>\n",
       "      <td>151</td>\n",
       "      <td>1</td>\n",
       "      <td>0</td>\n",
       "    </tr>\n",
       "    <tr>\n",
       "      <th>2</th>\n",
       "      <td>33</td>\n",
       "      <td>2</td>\n",
       "      <td>1</td>\n",
       "      <td>1</td>\n",
       "      <td>0</td>\n",
       "      <td>2</td>\n",
       "      <td>1</td>\n",
       "      <td>1</td>\n",
       "      <td>2</td>\n",
       "      <td>5</td>\n",
       "      <td>8</td>\n",
       "      <td>76</td>\n",
       "      <td>1</td>\n",
       "      <td>0</td>\n",
       "    </tr>\n",
       "  </tbody>\n",
       "</table>\n",
       "</div>"
      ],
      "text/plain": [
       "   age  job  marital  education  default  balance  housing  loan  contact  \\\n",
       "0   58    4        1          2        0     2143        1     0        2   \n",
       "1   44    9        2          1        0       29        1     0        2   \n",
       "2   33    2        1          1        0        2        1     1        2   \n",
       "\n",
       "   day  month  duration  campaign  y  \n",
       "0    5      8       261         1  0  \n",
       "1    5      8       151         1  0  \n",
       "2    5      8        76         1  0  "
      ]
     },
     "execution_count": 87,
     "metadata": {},
     "output_type": "execute_result"
    }
   ],
   "source": [
    "df.head(3)"
   ]
  },
  {
   "cell_type": "markdown",
   "metadata": {},
   "source": [
    "### 3. Establishing the model for prediction"
   ]
  },
  {
   "cell_type": "markdown",
   "metadata": {},
   "source": [
    "#### 3.1. Splitting into train and test data"
   ]
  },
  {
   "cell_type": "code",
   "execution_count": 103,
   "metadata": {},
   "outputs": [],
   "source": [
    "y = df['y']\n",
    "X = df.drop('y',axis = 1)\n",
    "X_train, X_test, y_train, y_test = train_test_split(X, y, test_size=0.2)"
   ]
  },
  {
   "cell_type": "markdown",
   "metadata": {},
   "source": [
    "I will automate the process to see which model is the best option for our data."
   ]
  },
  {
   "cell_type": "markdown",
   "metadata": {},
   "source": [
    "#### 3.2. Prediction"
   ]
  },
  {
   "cell_type": "code",
   "execution_count": 143,
   "metadata": {},
   "outputs": [
    {
     "name": "stdout",
     "output_type": "stream",
     "text": [
      "LogisticRegression -> The accuracy of the model: 0.934125\n",
      "DecisionTreeClassifier -> The accuracy of the model: 0.919375\n",
      "KNeighborsClassifier -> The accuracy of the model: 0.9295\n",
      "SVC -> The accuracy of the model: 0.929125\n",
      "RandomForestClassifier -> The accuracy of the model: 0.937875\n",
      "AdaBoostClassifier -> The accuracy of the model: 0.933375\n",
      "LGBMClassifier -> The accuracy of the model: 0.93925\n"
     ]
    }
   ],
   "source": [
    "results = []\n",
    "names = []\n",
    "models=[LogisticRegression,DecisionTreeClassifier,KNeighborsClassifier,SVC,RandomForestClassifier,AdaBoostClassifier,LGBMClassifier]\n",
    "def compML(df,algorithm):\n",
    "    model=algorithm().fit(X_train,y_train)\n",
    "    y_pred=model.predict(X_test)\n",
    "    accuracy=accuracy_score(y_test,y_pred)\n",
    "    model_name=algorithm.__name__\n",
    "    results.append(accuracy)\n",
    "    names.append(model_name)\n",
    "    print(model_name,\"-> The accuracy of the model:\",accuracy)\n",
    "for i in models:\n",
    "    compML(df,i)"
   ]
  },
  {
   "cell_type": "markdown",
   "metadata": {},
   "source": [
    "#### 3.3. Comparison of the models"
   ]
  },
  {
   "cell_type": "code",
   "execution_count": 130,
   "metadata": {},
   "outputs": [
    {
     "data": {
      "image/png": "[encoded data removed]",
      "text/plain": [
       "<Figure size 720x648 with 1 Axes>"
      ]
     },
     "metadata": {},
     "output_type": "display_data"
    }
   ],
   "source": [
    "sns.set(rc={'figure.figsize':(10,9)})\n",
    "sns.boxplot(results,names);"
   ]
  },
  {
   "cell_type": "markdown",
   "metadata": {},
   "source": [
    "LGBMClassifier ve Random Forest algorithms are the best options for our dataset. "
   ]
  },
  {
   "cell_type": "markdown",
   "metadata": {},
   "source": [
    "#### 3.4 Model Tuning"
   ]
  },
  {
   "cell_type": "markdown",
   "metadata": {},
   "source": [
    "Accuracy rates were obtained without any changes in parameters. In this section we will try to optimize accuracy rates using model tuning methods."
   ]
  },
  {
   "cell_type": "markdown",
   "metadata": {},
   "source": [
    "##### 3.4.1. LGBMClassifier Model Tuning"
   ]
  },
  {
   "cell_type": "code",
   "execution_count": 155,
   "metadata": {},
   "outputs": [],
   "source": [
    "lgbmc_params={'n_estimators':[100,500],\n",
    "              'subsample':[0.6,0.8,1.0],\n",
    "              'max_depth':[3,4,5],\n",
    "              'learning_rate':[0.1,0.01,0.05],\n",
    "              'min_child_samples':[5,10,20]}"
   ]
  },
  {
   "cell_type": "code",
   "execution_count": 156,
   "metadata": {},
   "outputs": [],
   "source": [
    "lgbmc=LGBMClassifier()\n",
    "lgbmc_cv_model=GridSearchCV(lgbmc,lgbmc_params,cv=5,n_jobs=-1,verbose=10)"
   ]
  },
  {
   "cell_type": "code",
   "execution_count": 157,
   "metadata": {
    "collapsed": true,
    "jupyter": {
     "outputs_hidden": true
    }
   },
   "outputs": [
    {
     "name": "stdout",
     "output_type": "stream",
     "text": [
      "Fitting 5 folds for each of 162 candidates, totalling 810 fits\n"
     ]
    },
    {
     "name": "stderr",
     "output_type": "stream",
     "text": [
      "[Parallel(n_jobs=-1)]: Using backend LokyBackend with 4 concurrent workers.\n",
      "[Parallel(n_jobs=-1)]: Done   5 tasks      | elapsed:    5.4s\n",
      "[Parallel(n_jobs=-1)]: Done  10 tasks      | elapsed:    7.0s\n",
      "[Parallel(n_jobs=-1)]: Done  17 tasks      | elapsed:   14.3s\n",
      "[Parallel(n_jobs=-1)]: Done  24 tasks      | elapsed:   27.7s\n",
      "[Parallel(n_jobs=-1)]: Done  33 tasks      | elapsed:   36.3s\n",
      "[Parallel(n_jobs=-1)]: Done  42 tasks      | elapsed:   39.6s\n",
      "[Parallel(n_jobs=-1)]: Done  53 tasks      | elapsed:   51.8s\n",
      "[Parallel(n_jobs=-1)]: Done  64 tasks      | elapsed:  1.1min\n",
      "[Parallel(n_jobs=-1)]: Done  77 tasks      | elapsed:  1.3min\n",
      "[Parallel(n_jobs=-1)]: Done  90 tasks      | elapsed:  1.5min\n",
      "[Parallel(n_jobs=-1)]: Done 105 tasks      | elapsed:  1.6min\n",
      "[Parallel(n_jobs=-1)]: Done 120 tasks      | elapsed:  2.0min\n",
      "[Parallel(n_jobs=-1)]: Done 137 tasks      | elapsed:  2.2min\n",
      "[Parallel(n_jobs=-1)]: Done 154 tasks      | elapsed:  2.6min\n",
      "[Parallel(n_jobs=-1)]: Done 173 tasks      | elapsed:  2.9min\n",
      "[Parallel(n_jobs=-1)]: Done 192 tasks      | elapsed:  3.2min\n",
      "[Parallel(n_jobs=-1)]: Done 213 tasks      | elapsed:  3.8min\n",
      "[Parallel(n_jobs=-1)]: Done 234 tasks      | elapsed:  4.3min\n",
      "[Parallel(n_jobs=-1)]: Done 257 tasks      | elapsed:  4.7min\n",
      "[Parallel(n_jobs=-1)]: Done 280 tasks      | elapsed:  5.2min\n",
      "[Parallel(n_jobs=-1)]: Done 305 tasks      | elapsed:  5.6min\n",
      "[Parallel(n_jobs=-1)]: Done 330 tasks      | elapsed:  6.1min\n",
      "[Parallel(n_jobs=-1)]: Done 357 tasks      | elapsed:  6.5min\n",
      "[Parallel(n_jobs=-1)]: Done 384 tasks      | elapsed:  7.1min\n",
      "[Parallel(n_jobs=-1)]: Done 413 tasks      | elapsed:  7.6min\n",
      "[Parallel(n_jobs=-1)]: Done 442 tasks      | elapsed:  8.2min\n",
      "[Parallel(n_jobs=-1)]: Done 473 tasks      | elapsed:  8.9min\n",
      "[Parallel(n_jobs=-1)]: Done 504 tasks      | elapsed:  9.7min\n",
      "[Parallel(n_jobs=-1)]: Done 537 tasks      | elapsed: 10.5min\n",
      "[Parallel(n_jobs=-1)]: Done 570 tasks      | elapsed: 11.1min\n",
      "[Parallel(n_jobs=-1)]: Done 605 tasks      | elapsed: 11.6min\n",
      "[Parallel(n_jobs=-1)]: Done 640 tasks      | elapsed: 12.2min\n",
      "[Parallel(n_jobs=-1)]: Done 677 tasks      | elapsed: 13.0min\n",
      "[Parallel(n_jobs=-1)]: Done 714 tasks      | elapsed: 14.0min\n",
      "[Parallel(n_jobs=-1)]: Done 753 tasks      | elapsed: 15.0min\n",
      "[Parallel(n_jobs=-1)]: Done 792 tasks      | elapsed: 15.9min\n",
      "[Parallel(n_jobs=-1)]: Done 810 out of 810 | elapsed: 16.7min finished\n"
     ]
    },
    {
     "data": {
      "text/plain": [
       "GridSearchCV(cv=5, estimator=LGBMClassifier(), n_jobs=-1,\n",
       "             param_grid={'learning_rate': [0.1, 0.01, 0.05],\n",
       "                         'max_depth': [3, 4, 5],\n",
       "                         'min_child_samples': [5, 10, 20],\n",
       "                         'n_estimators': [100, 500],\n",
       "                         'subsample': [0.6, 0.8, 1.0]},\n",
       "             verbose=10)"
      ]
     },
     "execution_count": 157,
     "metadata": {},
     "output_type": "execute_result"
    }
   ],
   "source": [
    "lgbmc_cv_model.fit(X_train,y_train)"
   ]
  },
  {
   "cell_type": "code",
   "execution_count": 158,
   "metadata": {},
   "outputs": [
    {
     "data": {
      "text/plain": [
       "{'learning_rate': 0.05,\n",
       " 'max_depth': 3,\n",
       " 'min_child_samples': 10,\n",
       " 'n_estimators': 500,\n",
       " 'subsample': 0.6}"
      ]
     },
     "execution_count": 158,
     "metadata": {},
     "output_type": "execute_result"
    }
   ],
   "source": [
    "#Best params can be obtained from following code\n",
    "lgbmc_cv_model.best_params_"
   ]
  },
  {
   "cell_type": "code",
   "execution_count": 160,
   "metadata": {},
   "outputs": [],
   "source": [
    "lgbmc_tuned=LGBMClassifier(learning_rate= 0.05, max_depth= 3, min_child_samples= 10, n_estimators= 500, subsample= 0.6)"
   ]
  },
  {
   "cell_type": "code",
   "execution_count": 163,
   "metadata": {},
   "outputs": [
    {
     "name": "stdout",
     "output_type": "stream",
     "text": [
      "Accuracy :  0.9445\n",
      "Confusion Matrix : \n",
      " [[7333  104]\n",
      " [ 340  223]]\n",
      "Classification Report: \n",
      "               precision    recall  f1-score   support\n",
      "\n",
      "           0       0.96      0.99      0.97      7437\n",
      "           1       0.68      0.40      0.50       563\n",
      "\n",
      "    accuracy                           0.94      8000\n",
      "   macro avg       0.82      0.69      0.74      8000\n",
      "weighted avg       0.94      0.94      0.94      8000\n",
      "\n"
     ]
    }
   ],
   "source": [
    "lgbmc_tuned=lgbmc.fit(X_train,y_train)\n",
    "y_pred=lgbmc_tuned.predict(X_test)\n",
    "print(\"Accuracy : \", accuracy_score(y_test, y_pred))\n",
    "print(\"Confusion Matrix : \\n\",confusion_matrix(y_test, y_pred))\n",
    "print(\"Classification Report: \\n\",classification_report(y_test, y_pred))"
   ]
  },
  {
   "cell_type": "markdown",
   "metadata": {},
   "source": [
    "Initially, the accuracy rate was 0.939. Now the rate is 0.944."
   ]
  },
  {
   "cell_type": "markdown",
   "metadata": {},
   "source": [
    "##### 3.4.2. Random Forest Model Tuning"
   ]
  },
  {
   "cell_type": "code",
   "execution_count": 164,
   "metadata": {},
   "outputs": [],
   "source": [
    "rf_params={'n_estimators':[10,500,1000],\n",
    "           'max_depth':[2,5,8],\n",
    "           'max_features':[2,5,8],\n",
    "           'min_samples_split':[2,5,10]}"
   ]
  },
  {
   "cell_type": "code",
   "execution_count": 165,
   "metadata": {},
   "outputs": [],
   "source": [
    "rf=RandomForestClassifier()\n",
    "rf_cv_model=GridSearchCV(rf,rf_params,cv=5,n_jobs=-1,verbose=10)"
   ]
  },
  {
   "cell_type": "code",
   "execution_count": 166,
   "metadata": {
    "collapsed": true,
    "jupyter": {
     "outputs_hidden": true
    }
   },
   "outputs": [
    {
     "name": "stdout",
     "output_type": "stream",
     "text": [
      "Fitting 5 folds for each of 81 candidates, totalling 405 fits\n"
     ]
    },
    {
     "name": "stderr",
     "output_type": "stream",
     "text": [
      "[Parallel(n_jobs=-1)]: Using backend LokyBackend with 4 concurrent workers.\n",
      "[Parallel(n_jobs=-1)]: Done   5 tasks      | elapsed:    7.8s\n",
      "[Parallel(n_jobs=-1)]: Done  10 tasks      | elapsed:   29.6s\n",
      "[Parallel(n_jobs=-1)]: Done  17 tasks      | elapsed:   42.2s\n",
      "[Parallel(n_jobs=-1)]: Done  24 tasks      | elapsed:  1.1min\n",
      "[Parallel(n_jobs=-1)]: Done  33 tasks      | elapsed:  1.5min\n",
      "[Parallel(n_jobs=-1)]: Done  42 tasks      | elapsed:  2.3min\n",
      "[Parallel(n_jobs=-1)]: Done  53 tasks      | elapsed:  2.6min\n",
      "[Parallel(n_jobs=-1)]: Done  64 tasks      | elapsed:  3.6min\n",
      "[Parallel(n_jobs=-1)]: Done  77 tasks      | elapsed:  4.4min\n",
      "[Parallel(n_jobs=-1)]: Done  90 tasks      | elapsed:  5.6min\n",
      "[Parallel(n_jobs=-1)]: Done 105 tasks      | elapsed:  7.4min\n",
      "[Parallel(n_jobs=-1)]: Done 120 tasks      | elapsed:  8.9min\n",
      "[Parallel(n_jobs=-1)]: Done 137 tasks      | elapsed: 10.5min\n",
      "[Parallel(n_jobs=-1)]: Done 154 tasks      | elapsed: 11.8min\n",
      "[Parallel(n_jobs=-1)]: Done 173 tasks      | elapsed: 13.5min\n",
      "[Parallel(n_jobs=-1)]: Done 192 tasks      | elapsed: 16.4min\n",
      "[Parallel(n_jobs=-1)]: Done 213 tasks      | elapsed: 18.8min\n",
      "[Parallel(n_jobs=-1)]: Done 234 tasks      | elapsed: 22.7min\n",
      "[Parallel(n_jobs=-1)]: Done 257 tasks      | elapsed: 26.7min\n",
      "[Parallel(n_jobs=-1)]: Done 280 tasks      | elapsed: 31.0min\n",
      "[Parallel(n_jobs=-1)]: Done 305 tasks      | elapsed: 33.5min\n",
      "[Parallel(n_jobs=-1)]: Done 330 tasks      | elapsed: 36.9min\n",
      "[Parallel(n_jobs=-1)]: Done 357 tasks      | elapsed: 42.3min\n",
      "[Parallel(n_jobs=-1)]: Done 384 tasks      | elapsed: 47.7min\n",
      "[Parallel(n_jobs=-1)]: Done 405 out of 405 | elapsed: 54.3min finished\n"
     ]
    },
    {
     "data": {
      "text/plain": [
       "GridSearchCV(cv=5, estimator=RandomForestClassifier(), n_jobs=-1,\n",
       "             param_grid={'max_depth': [2, 5, 8], 'max_features': [2, 5, 8],\n",
       "                         'min_samples_split': [2, 5, 10],\n",
       "                         'n_estimators': [10, 500, 1000]},\n",
       "             verbose=10)"
      ]
     },
     "execution_count": 166,
     "metadata": {},
     "output_type": "execute_result"
    }
   ],
   "source": [
    "rf_cv_model.fit(X_train,y_train)"
   ]
  },
  {
   "cell_type": "code",
   "execution_count": 167,
   "metadata": {},
   "outputs": [
    {
     "data": {
      "text/plain": [
       "{'max_depth': 8,\n",
       " 'max_features': 5,\n",
       " 'min_samples_split': 5,\n",
       " 'n_estimators': 500}"
      ]
     },
     "execution_count": 167,
     "metadata": {},
     "output_type": "execute_result"
    }
   ],
   "source": [
    "rf_cv_model.best_params_"
   ]
  },
  {
   "cell_type": "code",
   "execution_count": 168,
   "metadata": {},
   "outputs": [],
   "source": [
    "rf_tuned=LGBMClassifier(n_estimators=500 , max_depth=8, max_features=5 , min_samples_split=5)"
   ]
  },
  {
   "cell_type": "code",
   "execution_count": 169,
   "metadata": {},
   "outputs": [
    {
     "name": "stdout",
     "output_type": "stream",
     "text": [
      "Accuracy :  0.9385\n",
      "Confusion Matrix : \n",
      " [[7312  125]\n",
      " [ 367  196]]\n",
      "Classification Report: \n",
      "               precision    recall  f1-score   support\n",
      "\n",
      "           0       0.95      0.98      0.97      7437\n",
      "           1       0.61      0.35      0.44       563\n",
      "\n",
      "    accuracy                           0.94      8000\n",
      "   macro avg       0.78      0.67      0.71      8000\n",
      "weighted avg       0.93      0.94      0.93      8000\n",
      "\n"
     ]
    }
   ],
   "source": [
    "rf_tuned=rf.fit(X_train,y_train)\n",
    "y_pred=rf_tuned.predict(X_test)\n",
    "print(\"Accuracy : \", accuracy_score(y_test, y_pred))\n",
    "print(\"Confusion Matrix : \\n\",confusion_matrix(y_test, y_pred))\n",
    "print(\"Classification Report: \\n\",classification_report(y_test, y_pred))"
   ]
  },
  {
   "cell_type": "markdown",
   "metadata": {},
   "source": [
    "Random forest algorithm might be a good option for our dataset, but this model takes more time compared to LGBM. "
   ]
  },
  {
   "cell_type": "markdown",
   "metadata": {},
   "source": [
    "#### 3.5. Best features "
   ]
  },
  {
   "cell_type": "markdown",
   "metadata": {},
   "source": [
    "##### 3.5.1. LGBMClassifier Best Features"
   ]
  },
  {
   "cell_type": "code",
   "execution_count": 183,
   "metadata": {},
   "outputs": [
    {
     "data": {
      "image/png": "[encoded data removed]",
      "text/plain": [
       "<Figure size 432x288 with 1 Axes>"
      ]
     },
     "metadata": {},
     "output_type": "display_data"
    }
   ],
   "source": [
    "Importance=pd.DataFrame({'Importance':lgbmc_tuned.feature_importances_*100},\n",
    "                       index=X_train.columns)\n",
    "Importance.sort_values(by='Importance', \n",
    "                      axis=0,\n",
    "                      ascending=True).plot(kind='barh',\n",
    "                                          color='r')\n",
    "plt.xlabel('Feature which should be focusing more on')\n",
    "plt.gca().legend_=None"
   ]
  },
  {
   "cell_type": "markdown",
   "metadata": {},
   "source": [
    "According to LGBMClassifier algorithm, 'last contact duration', 'last contact month of year' and 'last contact day of the month'  features are important."
   ]
  },
  {
   "cell_type": "markdown",
   "metadata": {},
   "source": [
    "##### 3.5.1. Random Forests Best Features"
   ]
  },
  {
   "cell_type": "code",
   "execution_count": 170,
   "metadata": {},
   "outputs": [
    {
     "data": {
      "image/png": "[encoded data removed]",
      "text/plain": [
       "<Figure size 432x288 with 1 Axes>"
      ]
     },
     "metadata": {
      "needs_background": "light"
     },
     "output_type": "display_data"
    }
   ],
   "source": [
    "Importance=pd.DataFrame({'Importance':rf_tuned.feature_importances_*100},\n",
    "                       index=X_train.columns)\n",
    "Importance.sort_values(by='Importance', \n",
    "                      axis=0,\n",
    "                      ascending=True).plot(kind='barh',\n",
    "                                          color='r')\n",
    "plt.xlabel('Feature which should be focusing more on')\n",
    "plt.gca().legend_=None"
   ]
  },
  {
   "cell_type": "markdown",
   "metadata": {},
   "source": [
    "According to Random Forests algorithm, 'last contact duration', 'average yearly balance', 'age' and  'last contact day of the month' features are important."
   ]
  },
  {
   "cell_type": "markdown",
   "metadata": {},
   "source": [
    "### 4. Data visualization for customer segmentation"
   ]
  },
  {
   "cell_type": "code",
   "execution_count": 180,
   "metadata": {},
   "outputs": [
    {
     "data": {
      "text/html": [
       "<div>\n",
       "<style scoped>\n",
       "    .dataframe tbody tr th:only-of-type {\n",
       "        vertical-align: middle;\n",
       "    }\n",
       "\n",
       "    .dataframe tbody tr th {\n",
       "        vertical-align: top;\n",
       "    }\n",
       "\n",
       "    .dataframe thead th {\n",
       "        text-align: right;\n",
       "    }\n",
       "</style>\n",
       "<table border=\"1\" class=\"dataframe\">\n",
       "  <thead>\n",
       "    <tr style=\"text-align: right;\">\n",
       "      <th></th>\n",
       "      <th>age</th>\n",
       "      <th>job</th>\n",
       "      <th>marital</th>\n",
       "      <th>education</th>\n",
       "      <th>default</th>\n",
       "      <th>balance</th>\n",
       "      <th>housing</th>\n",
       "      <th>loan</th>\n",
       "      <th>contact</th>\n",
       "      <th>day</th>\n",
       "      <th>month</th>\n",
       "      <th>duration</th>\n",
       "      <th>campaign</th>\n",
       "      <th>y</th>\n",
       "    </tr>\n",
       "  </thead>\n",
       "  <tbody>\n",
       "    <tr>\n",
       "      <th>0</th>\n",
       "      <td>58</td>\n",
       "      <td>management</td>\n",
       "      <td>married</td>\n",
       "      <td>tertiary</td>\n",
       "      <td>no</td>\n",
       "      <td>2143</td>\n",
       "      <td>yes</td>\n",
       "      <td>no</td>\n",
       "      <td>unknown</td>\n",
       "      <td>5</td>\n",
       "      <td>may</td>\n",
       "      <td>261</td>\n",
       "      <td>1</td>\n",
       "      <td>no</td>\n",
       "    </tr>\n",
       "    <tr>\n",
       "      <th>1</th>\n",
       "      <td>44</td>\n",
       "      <td>technician</td>\n",
       "      <td>single</td>\n",
       "      <td>secondary</td>\n",
       "      <td>no</td>\n",
       "      <td>29</td>\n",
       "      <td>yes</td>\n",
       "      <td>no</td>\n",
       "      <td>unknown</td>\n",
       "      <td>5</td>\n",
       "      <td>may</td>\n",
       "      <td>151</td>\n",
       "      <td>1</td>\n",
       "      <td>no</td>\n",
       "    </tr>\n",
       "    <tr>\n",
       "      <th>2</th>\n",
       "      <td>33</td>\n",
       "      <td>entrepreneur</td>\n",
       "      <td>married</td>\n",
       "      <td>secondary</td>\n",
       "      <td>no</td>\n",
       "      <td>2</td>\n",
       "      <td>yes</td>\n",
       "      <td>yes</td>\n",
       "      <td>unknown</td>\n",
       "      <td>5</td>\n",
       "      <td>may</td>\n",
       "      <td>76</td>\n",
       "      <td>1</td>\n",
       "      <td>no</td>\n",
       "    </tr>\n",
       "  </tbody>\n",
       "</table>\n",
       "</div>"
      ],
      "text/plain": [
       "   age           job  marital  education default  balance housing loan  \\\n",
       "0   58    management  married   tertiary      no     2143     yes   no   \n",
       "1   44    technician   single  secondary      no       29     yes   no   \n",
       "2   33  entrepreneur  married  secondary      no        2     yes  yes   \n",
       "\n",
       "   contact  day month  duration  campaign   y  \n",
       "0  unknown    5   may       261         1  no  \n",
       "1  unknown    5   may       151         1  no  \n",
       "2  unknown    5   may        76         1  no  "
      ]
     },
     "execution_count": 180,
     "metadata": {},
     "output_type": "execute_result"
    }
   ],
   "source": [
    "df_initial=pd.read_csv(r'term-deposit-marketing-2020.csv')\n",
    "df_initial.head(3)"
   ]
  },
  {
   "cell_type": "code",
   "execution_count": 199,
   "metadata": {},
   "outputs": [
    {
     "data": {
      "image/png": "[encoded data removed]",
      "text/plain": [
       "<Figure size 432x288 with 1 Axes>"
      ]
     },
     "metadata": {},
     "output_type": "display_data"
    }
   ],
   "source": [
    "sns.set(style=\"ticks\", color_codes=True)\n",
    "sns.countplot(y='job',hue='y', data=df_initial);"
   ]
  },
  {
   "cell_type": "code",
   "execution_count": 203,
   "metadata": {},
   "outputs": [
    {
     "data": {
      "image/png": "[encoded data removed]",
      "text/plain": [
       "<Figure size 432x288 with 1 Axes>"
      ]
     },
     "metadata": {},
     "output_type": "display_data"
    }
   ],
   "source": [
    "sns.countplot(x='marital',hue='y', data=df_initial);"
   ]
  },
  {
   "cell_type": "code",
   "execution_count": 202,
   "metadata": {},
   "outputs": [
    {
     "data": {
      "image/png": "[encoded data removed]",
      "text/plain": [
       "<Figure size 432x288 with 1 Axes>"
      ]
     },
     "metadata": {},
     "output_type": "display_data"
    }
   ],
   "source": [
    "sns.countplot(x='education', hue='y',data=df_initial);"
   ]
  },
  {
   "cell_type": "code",
   "execution_count": 241,
   "metadata": {},
   "outputs": [
    {
     "data": {
      "text/plain": [
       "32    1909\n",
       "31    1826\n",
       "33    1770\n",
       "34    1730\n",
       "35    1721\n",
       "36    1648\n",
       "30    1565\n",
       "37    1538\n",
       "39    1380\n",
       "38    1350\n",
       "Name: age, dtype: int64"
      ]
     },
     "execution_count": 241,
     "metadata": {},
     "output_type": "execute_result"
    }
   ],
   "source": [
    "df_initial.age.value_counts().head(10)"
   ]
  }
 ],
 "metadata": {
  "kernelspec": {
   "display_name": "Python 3",
   "language": "python",
   "name": "python3"
  },
  "language_info": {
   "codemirror_mode": {
    "name": "ipython",
    "version": 3
   },
   "file_extension": ".py",
   "mimetype": "text/x-python",
   "name": "python",
   "nbconvert_exporter": "python",
   "pygments_lexer": "ipython3",
   "version": "3.7.3"
  }
 },
 "nbformat": 4,
 "nbformat_minor": 4
}
